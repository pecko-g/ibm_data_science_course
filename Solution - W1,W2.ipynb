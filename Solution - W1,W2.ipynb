{
 "cells": [
  {
   "cell_type": "code",
   "execution_count": 3,
   "id": "179de23a",
   "metadata": {},
   "outputs": [],
   "source": [
    "import pandas as pd\n",
    "import seaborn as sns\n",
    "import numpy as np"
   ]
  },
  {
   "cell_type": "code",
   "execution_count": 5,
   "id": "8dd34015",
   "metadata": {},
   "outputs": [
    {
     "data": {
      "text/html": [
       "<div>\n",
       "<style scoped>\n",
       "    .dataframe tbody tr th:only-of-type {\n",
       "        vertical-align: middle;\n",
       "    }\n",
       "\n",
       "    .dataframe tbody tr th {\n",
       "        vertical-align: top;\n",
       "    }\n",
       "\n",
       "    .dataframe thead th {\n",
       "        text-align: right;\n",
       "    }\n",
       "</style>\n",
       "<table border=\"1\" class=\"dataframe\">\n",
       "  <thead>\n",
       "    <tr style=\"text-align: right;\">\n",
       "      <th></th>\n",
       "      <th>ID</th>\n",
       "      <th>Headcirc</th>\n",
       "      <th>Length</th>\n",
       "      <th>Birthweight</th>\n",
       "      <th>Gestation</th>\n",
       "      <th>mage</th>\n",
       "      <th>smoker</th>\n",
       "      <th>mheight</th>\n",
       "      <th>mppwt</th>\n",
       "      <th>fage</th>\n",
       "      <th>fedyrs</th>\n",
       "      <th>fnocig</th>\n",
       "      <th>fheight</th>\n",
       "      <th>lowbwt</th>\n",
       "      <th>mage35</th>\n",
       "      <th>mnocig</th>\n",
       "    </tr>\n",
       "  </thead>\n",
       "  <tbody>\n",
       "    <tr>\n",
       "      <th>0</th>\n",
       "      <td>1360</td>\n",
       "      <td>34</td>\n",
       "      <td>56</td>\n",
       "      <td>4.55</td>\n",
       "      <td>44</td>\n",
       "      <td>20</td>\n",
       "      <td>0</td>\n",
       "      <td>162</td>\n",
       "      <td>57</td>\n",
       "      <td>23</td>\n",
       "      <td>10</td>\n",
       "      <td>35</td>\n",
       "      <td>179</td>\n",
       "      <td>0</td>\n",
       "      <td>0</td>\n",
       "      <td>0</td>\n",
       "    </tr>\n",
       "    <tr>\n",
       "      <th>1</th>\n",
       "      <td>1016</td>\n",
       "      <td>36</td>\n",
       "      <td>53</td>\n",
       "      <td>4.32</td>\n",
       "      <td>40</td>\n",
       "      <td>19</td>\n",
       "      <td>0</td>\n",
       "      <td>171</td>\n",
       "      <td>62</td>\n",
       "      <td>19</td>\n",
       "      <td>12</td>\n",
       "      <td>0</td>\n",
       "      <td>183</td>\n",
       "      <td>0</td>\n",
       "      <td>0</td>\n",
       "      <td>0</td>\n",
       "    </tr>\n",
       "    <tr>\n",
       "      <th>2</th>\n",
       "      <td>462</td>\n",
       "      <td>39</td>\n",
       "      <td>58</td>\n",
       "      <td>4.10</td>\n",
       "      <td>41</td>\n",
       "      <td>35</td>\n",
       "      <td>0</td>\n",
       "      <td>172</td>\n",
       "      <td>58</td>\n",
       "      <td>31</td>\n",
       "      <td>16</td>\n",
       "      <td>25</td>\n",
       "      <td>185</td>\n",
       "      <td>0</td>\n",
       "      <td>1</td>\n",
       "      <td>0</td>\n",
       "    </tr>\n",
       "    <tr>\n",
       "      <th>3</th>\n",
       "      <td>1187</td>\n",
       "      <td>38</td>\n",
       "      <td>53</td>\n",
       "      <td>4.07</td>\n",
       "      <td>44</td>\n",
       "      <td>20</td>\n",
       "      <td>0</td>\n",
       "      <td>174</td>\n",
       "      <td>68</td>\n",
       "      <td>26</td>\n",
       "      <td>14</td>\n",
       "      <td>25</td>\n",
       "      <td>189</td>\n",
       "      <td>0</td>\n",
       "      <td>0</td>\n",
       "      <td>0</td>\n",
       "    </tr>\n",
       "    <tr>\n",
       "      <th>4</th>\n",
       "      <td>553</td>\n",
       "      <td>37</td>\n",
       "      <td>54</td>\n",
       "      <td>3.94</td>\n",
       "      <td>42</td>\n",
       "      <td>24</td>\n",
       "      <td>0</td>\n",
       "      <td>175</td>\n",
       "      <td>66</td>\n",
       "      <td>30</td>\n",
       "      <td>12</td>\n",
       "      <td>0</td>\n",
       "      <td>184</td>\n",
       "      <td>0</td>\n",
       "      <td>0</td>\n",
       "      <td>0</td>\n",
       "    </tr>\n",
       "  </tbody>\n",
       "</table>\n",
       "</div>"
      ],
      "text/plain": [
       "     ID  Headcirc  Length  Birthweight  Gestation  mage  smoker  mheight  \\\n",
       "0  1360        34      56         4.55         44    20       0      162   \n",
       "1  1016        36      53         4.32         40    19       0      171   \n",
       "2   462        39      58         4.10         41    35       0      172   \n",
       "3  1187        38      53         4.07         44    20       0      174   \n",
       "4   553        37      54         3.94         42    24       0      175   \n",
       "\n",
       "   mppwt  fage  fedyrs  fnocig  fheight  lowbwt  mage35  mnocig  \n",
       "0     57    23      10      35      179       0       0       0  \n",
       "1     62    19      12       0      183       0       0       0  \n",
       "2     58    31      16      25      185       0       1       0  \n",
       "3     68    26      14      25      189       0       0       0  \n",
       "4     66    30      12       0      184       0       0       0  "
      ]
     },
     "execution_count": 5,
     "metadata": {},
     "output_type": "execute_result"
    }
   ],
   "source": [
    "babies = pd.read_csv('/Users/pedro/Documents/Python/Brainnest/Birthweight_reduced_kg_SPSS.csv')\n",
    "babies.head()"
   ]
  },
  {
   "cell_type": "code",
   "execution_count": 4,
   "id": "5075b3e2",
   "metadata": {},
   "outputs": [
    {
     "data": {
      "text/html": [
       "<div>\n",
       "<style scoped>\n",
       "    .dataframe tbody tr th:only-of-type {\n",
       "        vertical-align: middle;\n",
       "    }\n",
       "\n",
       "    .dataframe tbody tr th {\n",
       "        vertical-align: top;\n",
       "    }\n",
       "\n",
       "    .dataframe thead th {\n",
       "        text-align: right;\n",
       "    }\n",
       "</style>\n",
       "<table border=\"1\" class=\"dataframe\">\n",
       "  <thead>\n",
       "    <tr style=\"text-align: right;\">\n",
       "      <th></th>\n",
       "      <th>ID</th>\n",
       "      <th>Headcirc</th>\n",
       "      <th>Length</th>\n",
       "      <th>Birthweight</th>\n",
       "      <th>Gestation</th>\n",
       "      <th>mage</th>\n",
       "      <th>smoker</th>\n",
       "      <th>mheight</th>\n",
       "      <th>mppwt</th>\n",
       "      <th>fage</th>\n",
       "      <th>fedyrs</th>\n",
       "      <th>fnocig</th>\n",
       "      <th>fheight</th>\n",
       "      <th>lowbwt</th>\n",
       "      <th>mage35</th>\n",
       "      <th>mnocig</th>\n",
       "    </tr>\n",
       "  </thead>\n",
       "  <tbody>\n",
       "    <tr>\n",
       "      <th>0</th>\n",
       "      <td>1360</td>\n",
       "      <td>34</td>\n",
       "      <td>56</td>\n",
       "      <td>4.55</td>\n",
       "      <td>44</td>\n",
       "      <td>20</td>\n",
       "      <td>0</td>\n",
       "      <td>162</td>\n",
       "      <td>57</td>\n",
       "      <td>23</td>\n",
       "      <td>10</td>\n",
       "      <td>35</td>\n",
       "      <td>179</td>\n",
       "      <td>0</td>\n",
       "      <td>0</td>\n",
       "      <td>0</td>\n",
       "    </tr>\n",
       "    <tr>\n",
       "      <th>1</th>\n",
       "      <td>1016</td>\n",
       "      <td>36</td>\n",
       "      <td>53</td>\n",
       "      <td>4.32</td>\n",
       "      <td>40</td>\n",
       "      <td>19</td>\n",
       "      <td>0</td>\n",
       "      <td>171</td>\n",
       "      <td>62</td>\n",
       "      <td>19</td>\n",
       "      <td>12</td>\n",
       "      <td>0</td>\n",
       "      <td>183</td>\n",
       "      <td>0</td>\n",
       "      <td>0</td>\n",
       "      <td>0</td>\n",
       "    </tr>\n",
       "    <tr>\n",
       "      <th>2</th>\n",
       "      <td>462</td>\n",
       "      <td>39</td>\n",
       "      <td>58</td>\n",
       "      <td>4.10</td>\n",
       "      <td>41</td>\n",
       "      <td>35</td>\n",
       "      <td>0</td>\n",
       "      <td>172</td>\n",
       "      <td>58</td>\n",
       "      <td>31</td>\n",
       "      <td>16</td>\n",
       "      <td>25</td>\n",
       "      <td>185</td>\n",
       "      <td>0</td>\n",
       "      <td>1</td>\n",
       "      <td>0</td>\n",
       "    </tr>\n",
       "    <tr>\n",
       "      <th>3</th>\n",
       "      <td>1187</td>\n",
       "      <td>38</td>\n",
       "      <td>53</td>\n",
       "      <td>4.07</td>\n",
       "      <td>44</td>\n",
       "      <td>20</td>\n",
       "      <td>0</td>\n",
       "      <td>174</td>\n",
       "      <td>68</td>\n",
       "      <td>26</td>\n",
       "      <td>14</td>\n",
       "      <td>25</td>\n",
       "      <td>189</td>\n",
       "      <td>0</td>\n",
       "      <td>0</td>\n",
       "      <td>0</td>\n",
       "    </tr>\n",
       "    <tr>\n",
       "      <th>4</th>\n",
       "      <td>553</td>\n",
       "      <td>37</td>\n",
       "      <td>54</td>\n",
       "      <td>3.94</td>\n",
       "      <td>42</td>\n",
       "      <td>24</td>\n",
       "      <td>0</td>\n",
       "      <td>175</td>\n",
       "      <td>66</td>\n",
       "      <td>30</td>\n",
       "      <td>12</td>\n",
       "      <td>0</td>\n",
       "      <td>184</td>\n",
       "      <td>0</td>\n",
       "      <td>0</td>\n",
       "      <td>0</td>\n",
       "    </tr>\n",
       "  </tbody>\n",
       "</table>\n",
       "</div>"
      ],
      "text/plain": [
       "     ID  Headcirc  Length  Birthweight  Gestation  mage  smoker  mheight  \\\n",
       "0  1360        34      56         4.55         44    20       0      162   \n",
       "1  1016        36      53         4.32         40    19       0      171   \n",
       "2   462        39      58         4.10         41    35       0      172   \n",
       "3  1187        38      53         4.07         44    20       0      174   \n",
       "4   553        37      54         3.94         42    24       0      175   \n",
       "\n",
       "   mppwt  fage  fedyrs  fnocig  fheight  lowbwt  mage35  mnocig  \n",
       "0     57    23      10      35      179       0       0       0  \n",
       "1     62    19      12       0      183       0       0       0  \n",
       "2     58    31      16      25      185       0       1       0  \n",
       "3     68    26      14      25      189       0       0       0  \n",
       "4     66    30      12       0      184       0       0       0  "
      ]
     },
     "execution_count": 4,
     "metadata": {},
     "output_type": "execute_result"
    }
   ],
   "source": [
    "babies_non_smokers = babies[babies['smoker'] == 0]\n",
    "babies_non_smokers.head()"
   ]
  },
  {
   "cell_type": "code",
   "execution_count": 6,
   "id": "d4c32a9b",
   "metadata": {},
   "outputs": [
    {
     "data": {
      "text/plain": [
       "3.5095000000000005"
      ]
     },
     "execution_count": 6,
     "metadata": {},
     "output_type": "execute_result"
    }
   ],
   "source": [
    "babies_non_smokers['Birthweight'].mean()"
   ]
  },
  {
   "cell_type": "code",
   "execution_count": 7,
   "id": "0c0ffdfa",
   "metadata": {},
   "outputs": [
    {
     "data": {
      "text/html": [
       "<div>\n",
       "<style scoped>\n",
       "    .dataframe tbody tr th:only-of-type {\n",
       "        vertical-align: middle;\n",
       "    }\n",
       "\n",
       "    .dataframe tbody tr th {\n",
       "        vertical-align: top;\n",
       "    }\n",
       "\n",
       "    .dataframe thead th {\n",
       "        text-align: right;\n",
       "    }\n",
       "</style>\n",
       "<table border=\"1\" class=\"dataframe\">\n",
       "  <thead>\n",
       "    <tr style=\"text-align: right;\">\n",
       "      <th></th>\n",
       "      <th>ID</th>\n",
       "      <th>Headcirc</th>\n",
       "      <th>Length</th>\n",
       "      <th>Birthweight</th>\n",
       "      <th>Gestation</th>\n",
       "      <th>mage</th>\n",
       "      <th>smoker</th>\n",
       "      <th>mheight</th>\n",
       "      <th>mppwt</th>\n",
       "      <th>fage</th>\n",
       "      <th>fedyrs</th>\n",
       "      <th>fnocig</th>\n",
       "      <th>fheight</th>\n",
       "      <th>lowbwt</th>\n",
       "      <th>mage35</th>\n",
       "      <th>mnocig</th>\n",
       "    </tr>\n",
       "  </thead>\n",
       "  <tbody>\n",
       "    <tr>\n",
       "      <th>20</th>\n",
       "      <td>792</td>\n",
       "      <td>38</td>\n",
       "      <td>53</td>\n",
       "      <td>3.64</td>\n",
       "      <td>40</td>\n",
       "      <td>20</td>\n",
       "      <td>1</td>\n",
       "      <td>170</td>\n",
       "      <td>59</td>\n",
       "      <td>24</td>\n",
       "      <td>12</td>\n",
       "      <td>12</td>\n",
       "      <td>185</td>\n",
       "      <td>0</td>\n",
       "      <td>0</td>\n",
       "      <td>2</td>\n",
       "    </tr>\n",
       "    <tr>\n",
       "      <th>21</th>\n",
       "      <td>1388</td>\n",
       "      <td>33</td>\n",
       "      <td>51</td>\n",
       "      <td>3.14</td>\n",
       "      <td>41</td>\n",
       "      <td>22</td>\n",
       "      <td>1</td>\n",
       "      <td>160</td>\n",
       "      <td>53</td>\n",
       "      <td>24</td>\n",
       "      <td>16</td>\n",
       "      <td>12</td>\n",
       "      <td>176</td>\n",
       "      <td>0</td>\n",
       "      <td>0</td>\n",
       "      <td>7</td>\n",
       "    </tr>\n",
       "    <tr>\n",
       "      <th>22</th>\n",
       "      <td>575</td>\n",
       "      <td>30</td>\n",
       "      <td>50</td>\n",
       "      <td>2.78</td>\n",
       "      <td>37</td>\n",
       "      <td>19</td>\n",
       "      <td>1</td>\n",
       "      <td>165</td>\n",
       "      <td>60</td>\n",
       "      <td>20</td>\n",
       "      <td>14</td>\n",
       "      <td>0</td>\n",
       "      <td>183</td>\n",
       "      <td>0</td>\n",
       "      <td>0</td>\n",
       "      <td>7</td>\n",
       "    </tr>\n",
       "    <tr>\n",
       "      <th>23</th>\n",
       "      <td>569</td>\n",
       "      <td>35</td>\n",
       "      <td>50</td>\n",
       "      <td>2.51</td>\n",
       "      <td>39</td>\n",
       "      <td>22</td>\n",
       "      <td>1</td>\n",
       "      <td>159</td>\n",
       "      <td>52</td>\n",
       "      <td>23</td>\n",
       "      <td>14</td>\n",
       "      <td>25</td>\n",
       "      <td>200</td>\n",
       "      <td>1</td>\n",
       "      <td>0</td>\n",
       "      <td>7</td>\n",
       "    </tr>\n",
       "    <tr>\n",
       "      <th>24</th>\n",
       "      <td>1363</td>\n",
       "      <td>30</td>\n",
       "      <td>48</td>\n",
       "      <td>2.37</td>\n",
       "      <td>37</td>\n",
       "      <td>20</td>\n",
       "      <td>1</td>\n",
       "      <td>163</td>\n",
       "      <td>47</td>\n",
       "      <td>20</td>\n",
       "      <td>10</td>\n",
       "      <td>35</td>\n",
       "      <td>185</td>\n",
       "      <td>1</td>\n",
       "      <td>0</td>\n",
       "      <td>7</td>\n",
       "    </tr>\n",
       "  </tbody>\n",
       "</table>\n",
       "</div>"
      ],
      "text/plain": [
       "      ID  Headcirc  Length  Birthweight  Gestation  mage  smoker  mheight  \\\n",
       "20   792        38      53         3.64         40    20       1      170   \n",
       "21  1388        33      51         3.14         41    22       1      160   \n",
       "22   575        30      50         2.78         37    19       1      165   \n",
       "23   569        35      50         2.51         39    22       1      159   \n",
       "24  1363        30      48         2.37         37    20       1      163   \n",
       "\n",
       "    mppwt  fage  fedyrs  fnocig  fheight  lowbwt  mage35  mnocig  \n",
       "20     59    24      12      12      185       0       0       2  \n",
       "21     53    24      16      12      176       0       0       7  \n",
       "22     60    20      14       0      183       0       0       7  \n",
       "23     52    23      14      25      200       1       0       7  \n",
       "24     47    20      10      35      185       1       0       7  "
      ]
     },
     "execution_count": 7,
     "metadata": {},
     "output_type": "execute_result"
    }
   ],
   "source": [
    "babies_smokers = babies[babies['smoker'] == 1]\n",
    "babies_smokers.head()"
   ]
  },
  {
   "cell_type": "code",
   "execution_count": 8,
   "id": "c644476b",
   "metadata": {},
   "outputs": [
    {
     "data": {
      "text/plain": [
       "3.1340909090909093"
      ]
     },
     "execution_count": 8,
     "metadata": {},
     "output_type": "execute_result"
    }
   ],
   "source": [
    "babies_smokers['Birthweight'].mean()"
   ]
  },
  {
   "cell_type": "code",
   "execution_count": 9,
   "id": "50fae999",
   "metadata": {},
   "outputs": [
    {
     "data": {
      "text/plain": [
       "35.05"
      ]
     },
     "execution_count": 9,
     "metadata": {},
     "output_type": "execute_result"
    }
   ],
   "source": [
    "babies_non_smokers['Headcirc'].mean()"
   ]
  },
  {
   "cell_type": "code",
   "execution_count": 10,
   "id": "db49e87d",
   "metadata": {},
   "outputs": [
    {
     "data": {
      "text/plain": [
       "38.95454545454545"
      ]
     },
     "execution_count": 10,
     "metadata": {},
     "output_type": "execute_result"
    }
   ],
   "source": [
    "babies_smokers['Gestation'].mean()"
   ]
  },
  {
   "cell_type": "code",
   "execution_count": 11,
   "id": "ba2c8fa2",
   "metadata": {},
   "outputs": [
    {
     "data": {
      "text/html": [
       "<div>\n",
       "<style scoped>\n",
       "    .dataframe tbody tr th:only-of-type {\n",
       "        vertical-align: middle;\n",
       "    }\n",
       "\n",
       "    .dataframe tbody tr th {\n",
       "        vertical-align: top;\n",
       "    }\n",
       "\n",
       "    .dataframe thead th {\n",
       "        text-align: right;\n",
       "    }\n",
       "</style>\n",
       "<table border=\"1\" class=\"dataframe\">\n",
       "  <thead>\n",
       "    <tr style=\"text-align: right;\">\n",
       "      <th></th>\n",
       "      <th>ID</th>\n",
       "      <th>Headcirc</th>\n",
       "      <th>Length</th>\n",
       "      <th>Birthweight</th>\n",
       "      <th>Gestation</th>\n",
       "      <th>mage</th>\n",
       "      <th>smoker</th>\n",
       "      <th>mheight</th>\n",
       "      <th>mppwt</th>\n",
       "      <th>fage</th>\n",
       "      <th>fedyrs</th>\n",
       "      <th>fnocig</th>\n",
       "      <th>fheight</th>\n",
       "      <th>lowbwt</th>\n",
       "      <th>mage35</th>\n",
       "      <th>mnocig</th>\n",
       "    </tr>\n",
       "  </thead>\n",
       "  <tbody>\n",
       "    <tr>\n",
       "      <th>count</th>\n",
       "      <td>20.00000</td>\n",
       "      <td>20.000000</td>\n",
       "      <td>20.000000</td>\n",
       "      <td>20.000000</td>\n",
       "      <td>20.000000</td>\n",
       "      <td>20.000000</td>\n",
       "      <td>20.0</td>\n",
       "      <td>20.000000</td>\n",
       "      <td>20.000000</td>\n",
       "      <td>20.000000</td>\n",
       "      <td>20.000000</td>\n",
       "      <td>20.000000</td>\n",
       "      <td>20.000000</td>\n",
       "      <td>20.000000</td>\n",
       "      <td>20.000000</td>\n",
       "      <td>20.0</td>\n",
       "    </tr>\n",
       "    <tr>\n",
       "      <th>mean</th>\n",
       "      <td>1027.90000</td>\n",
       "      <td>35.050000</td>\n",
       "      <td>51.800000</td>\n",
       "      <td>3.509500</td>\n",
       "      <td>39.450000</td>\n",
       "      <td>24.300000</td>\n",
       "      <td>0.0</td>\n",
       "      <td>164.450000</td>\n",
       "      <td>57.500000</td>\n",
       "      <td>27.500000</td>\n",
       "      <td>13.700000</td>\n",
       "      <td>9.700000</td>\n",
       "      <td>179.700000</td>\n",
       "      <td>0.050000</td>\n",
       "      <td>0.050000</td>\n",
       "      <td>0.0</td>\n",
       "    </tr>\n",
       "    <tr>\n",
       "      <th>std</th>\n",
       "      <td>380.22748</td>\n",
       "      <td>2.089447</td>\n",
       "      <td>3.254147</td>\n",
       "      <td>0.518495</td>\n",
       "      <td>2.799906</td>\n",
       "      <td>4.635106</td>\n",
       "      <td>0.0</td>\n",
       "      <td>6.801509</td>\n",
       "      <td>6.134458</td>\n",
       "      <td>5.567764</td>\n",
       "      <td>2.178846</td>\n",
       "      <td>12.868157</td>\n",
       "      <td>6.457146</td>\n",
       "      <td>0.223607</td>\n",
       "      <td>0.223607</td>\n",
       "      <td>0.0</td>\n",
       "    </tr>\n",
       "    <tr>\n",
       "      <th>min</th>\n",
       "      <td>321.00000</td>\n",
       "      <td>32.000000</td>\n",
       "      <td>43.000000</td>\n",
       "      <td>2.650000</td>\n",
       "      <td>33.000000</td>\n",
       "      <td>18.000000</td>\n",
       "      <td>0.0</td>\n",
       "      <td>149.000000</td>\n",
       "      <td>45.000000</td>\n",
       "      <td>19.000000</td>\n",
       "      <td>10.000000</td>\n",
       "      <td>0.000000</td>\n",
       "      <td>169.000000</td>\n",
       "      <td>0.000000</td>\n",
       "      <td>0.000000</td>\n",
       "      <td>0.0</td>\n",
       "    </tr>\n",
       "    <tr>\n",
       "      <th>25%</th>\n",
       "      <td>794.75000</td>\n",
       "      <td>33.000000</td>\n",
       "      <td>50.750000</td>\n",
       "      <td>3.140000</td>\n",
       "      <td>38.000000</td>\n",
       "      <td>20.000000</td>\n",
       "      <td>0.0</td>\n",
       "      <td>161.000000</td>\n",
       "      <td>53.750000</td>\n",
       "      <td>23.000000</td>\n",
       "      <td>12.000000</td>\n",
       "      <td>0.000000</td>\n",
       "      <td>174.500000</td>\n",
       "      <td>0.000000</td>\n",
       "      <td>0.000000</td>\n",
       "      <td>0.0</td>\n",
       "    </tr>\n",
       "    <tr>\n",
       "      <th>50%</th>\n",
       "      <td>1069.50000</td>\n",
       "      <td>34.500000</td>\n",
       "      <td>53.000000</td>\n",
       "      <td>3.385000</td>\n",
       "      <td>40.000000</td>\n",
       "      <td>24.000000</td>\n",
       "      <td>0.0</td>\n",
       "      <td>165.000000</td>\n",
       "      <td>57.500000</td>\n",
       "      <td>26.500000</td>\n",
       "      <td>14.000000</td>\n",
       "      <td>0.000000</td>\n",
       "      <td>180.500000</td>\n",
       "      <td>0.000000</td>\n",
       "      <td>0.000000</td>\n",
       "      <td>0.0</td>\n",
       "    </tr>\n",
       "    <tr>\n",
       "      <th>75%</th>\n",
       "      <td>1221.50000</td>\n",
       "      <td>36.250000</td>\n",
       "      <td>53.000000</td>\n",
       "      <td>3.932500</td>\n",
       "      <td>41.000000</td>\n",
       "      <td>27.250000</td>\n",
       "      <td>0.0</td>\n",
       "      <td>168.750000</td>\n",
       "      <td>62.000000</td>\n",
       "      <td>31.000000</td>\n",
       "      <td>16.000000</td>\n",
       "      <td>25.000000</td>\n",
       "      <td>183.250000</td>\n",
       "      <td>0.000000</td>\n",
       "      <td>0.000000</td>\n",
       "      <td>0.0</td>\n",
       "    </tr>\n",
       "    <tr>\n",
       "      <th>max</th>\n",
       "      <td>1683.00000</td>\n",
       "      <td>39.000000</td>\n",
       "      <td>58.000000</td>\n",
       "      <td>4.550000</td>\n",
       "      <td>44.000000</td>\n",
       "      <td>35.000000</td>\n",
       "      <td>0.0</td>\n",
       "      <td>175.000000</td>\n",
       "      <td>68.000000</td>\n",
       "      <td>39.000000</td>\n",
       "      <td>16.000000</td>\n",
       "      <td>35.000000</td>\n",
       "      <td>193.000000</td>\n",
       "      <td>1.000000</td>\n",
       "      <td>1.000000</td>\n",
       "      <td>0.0</td>\n",
       "    </tr>\n",
       "  </tbody>\n",
       "</table>\n",
       "</div>"
      ],
      "text/plain": [
       "               ID   Headcirc     Length  Birthweight  Gestation       mage  \\\n",
       "count    20.00000  20.000000  20.000000    20.000000  20.000000  20.000000   \n",
       "mean   1027.90000  35.050000  51.800000     3.509500  39.450000  24.300000   \n",
       "std     380.22748   2.089447   3.254147     0.518495   2.799906   4.635106   \n",
       "min     321.00000  32.000000  43.000000     2.650000  33.000000  18.000000   \n",
       "25%     794.75000  33.000000  50.750000     3.140000  38.000000  20.000000   \n",
       "50%    1069.50000  34.500000  53.000000     3.385000  40.000000  24.000000   \n",
       "75%    1221.50000  36.250000  53.000000     3.932500  41.000000  27.250000   \n",
       "max    1683.00000  39.000000  58.000000     4.550000  44.000000  35.000000   \n",
       "\n",
       "       smoker     mheight      mppwt       fage     fedyrs     fnocig  \\\n",
       "count    20.0   20.000000  20.000000  20.000000  20.000000  20.000000   \n",
       "mean      0.0  164.450000  57.500000  27.500000  13.700000   9.700000   \n",
       "std       0.0    6.801509   6.134458   5.567764   2.178846  12.868157   \n",
       "min       0.0  149.000000  45.000000  19.000000  10.000000   0.000000   \n",
       "25%       0.0  161.000000  53.750000  23.000000  12.000000   0.000000   \n",
       "50%       0.0  165.000000  57.500000  26.500000  14.000000   0.000000   \n",
       "75%       0.0  168.750000  62.000000  31.000000  16.000000  25.000000   \n",
       "max       0.0  175.000000  68.000000  39.000000  16.000000  35.000000   \n",
       "\n",
       "          fheight     lowbwt     mage35  mnocig  \n",
       "count   20.000000  20.000000  20.000000    20.0  \n",
       "mean   179.700000   0.050000   0.050000     0.0  \n",
       "std      6.457146   0.223607   0.223607     0.0  \n",
       "min    169.000000   0.000000   0.000000     0.0  \n",
       "25%    174.500000   0.000000   0.000000     0.0  \n",
       "50%    180.500000   0.000000   0.000000     0.0  \n",
       "75%    183.250000   0.000000   0.000000     0.0  \n",
       "max    193.000000   1.000000   1.000000     0.0  "
      ]
     },
     "execution_count": 11,
     "metadata": {},
     "output_type": "execute_result"
    }
   ],
   "source": [
    "babies_non_smokers.describe()"
   ]
  },
  {
   "cell_type": "code",
   "execution_count": 12,
   "id": "c9a8bad6",
   "metadata": {},
   "outputs": [
    {
     "data": {
      "text/html": [
       "<div>\n",
       "<style scoped>\n",
       "    .dataframe tbody tr th:only-of-type {\n",
       "        vertical-align: middle;\n",
       "    }\n",
       "\n",
       "    .dataframe tbody tr th {\n",
       "        vertical-align: top;\n",
       "    }\n",
       "\n",
       "    .dataframe thead th {\n",
       "        text-align: right;\n",
       "    }\n",
       "</style>\n",
       "<table border=\"1\" class=\"dataframe\">\n",
       "  <thead>\n",
       "    <tr style=\"text-align: right;\">\n",
       "      <th></th>\n",
       "      <th>ID</th>\n",
       "      <th>Headcirc</th>\n",
       "      <th>Length</th>\n",
       "      <th>Birthweight</th>\n",
       "      <th>Gestation</th>\n",
       "      <th>mage</th>\n",
       "      <th>smoker</th>\n",
       "      <th>mheight</th>\n",
       "      <th>mppwt</th>\n",
       "      <th>fage</th>\n",
       "      <th>fedyrs</th>\n",
       "      <th>fnocig</th>\n",
       "      <th>fheight</th>\n",
       "      <th>lowbwt</th>\n",
       "      <th>mage35</th>\n",
       "      <th>mnocig</th>\n",
       "    </tr>\n",
       "  </thead>\n",
       "  <tbody>\n",
       "    <tr>\n",
       "      <th>count</th>\n",
       "      <td>22.000000</td>\n",
       "      <td>22.000000</td>\n",
       "      <td>22.000000</td>\n",
       "      <td>22.000000</td>\n",
       "      <td>22.000000</td>\n",
       "      <td>22.000000</td>\n",
       "      <td>22.0</td>\n",
       "      <td>22.000000</td>\n",
       "      <td>22.000000</td>\n",
       "      <td>22.000000</td>\n",
       "      <td>22.000000</td>\n",
       "      <td>22.000000</td>\n",
       "      <td>22.000000</td>\n",
       "      <td>22.000000</td>\n",
       "      <td>22.000000</td>\n",
       "      <td>22.0</td>\n",
       "    </tr>\n",
       "    <tr>\n",
       "      <th>mean</th>\n",
       "      <td>772.409091</td>\n",
       "      <td>34.181818</td>\n",
       "      <td>50.909091</td>\n",
       "      <td>3.134091</td>\n",
       "      <td>38.954545</td>\n",
       "      <td>26.681818</td>\n",
       "      <td>1.0</td>\n",
       "      <td>164.454545</td>\n",
       "      <td>57.500000</td>\n",
       "      <td>30.181818</td>\n",
       "      <td>13.636364</td>\n",
       "      <td>24.000000</td>\n",
       "      <td>181.227273</td>\n",
       "      <td>0.227273</td>\n",
       "      <td>0.136364</td>\n",
       "      <td>18.0</td>\n",
       "    </tr>\n",
       "    <tr>\n",
       "      <th>std</th>\n",
       "      <td>513.370530</td>\n",
       "      <td>2.630161</td>\n",
       "      <td>2.616961</td>\n",
       "      <td>0.631247</td>\n",
       "      <td>2.535036</td>\n",
       "      <td>6.357495</td>\n",
       "      <td>0.0</td>\n",
       "      <td>6.382471</td>\n",
       "      <td>8.192622</td>\n",
       "      <td>7.768289</td>\n",
       "      <td>2.194049</td>\n",
       "      <td>18.249592</td>\n",
       "      <td>7.495598</td>\n",
       "      <td>0.428932</td>\n",
       "      <td>0.351250</td>\n",
       "      <td>12.0</td>\n",
       "    </tr>\n",
       "    <tr>\n",
       "      <th>min</th>\n",
       "      <td>27.000000</td>\n",
       "      <td>30.000000</td>\n",
       "      <td>46.000000</td>\n",
       "      <td>1.920000</td>\n",
       "      <td>33.000000</td>\n",
       "      <td>19.000000</td>\n",
       "      <td>1.0</td>\n",
       "      <td>152.000000</td>\n",
       "      <td>47.000000</td>\n",
       "      <td>20.000000</td>\n",
       "      <td>10.000000</td>\n",
       "      <td>0.000000</td>\n",
       "      <td>169.000000</td>\n",
       "      <td>0.000000</td>\n",
       "      <td>0.000000</td>\n",
       "      <td>2.0</td>\n",
       "    </tr>\n",
       "    <tr>\n",
       "      <th>25%</th>\n",
       "      <td>381.500000</td>\n",
       "      <td>33.000000</td>\n",
       "      <td>49.250000</td>\n",
       "      <td>2.742500</td>\n",
       "      <td>38.000000</td>\n",
       "      <td>21.250000</td>\n",
       "      <td>1.0</td>\n",
       "      <td>161.000000</td>\n",
       "      <td>51.250000</td>\n",
       "      <td>23.250000</td>\n",
       "      <td>12.000000</td>\n",
       "      <td>8.250000</td>\n",
       "      <td>176.500000</td>\n",
       "      <td>0.000000</td>\n",
       "      <td>0.000000</td>\n",
       "      <td>7.0</td>\n",
       "    </tr>\n",
       "    <tr>\n",
       "      <th>50%</th>\n",
       "      <td>597.000000</td>\n",
       "      <td>34.000000</td>\n",
       "      <td>51.000000</td>\n",
       "      <td>3.185000</td>\n",
       "      <td>39.000000</td>\n",
       "      <td>26.500000</td>\n",
       "      <td>1.0</td>\n",
       "      <td>163.000000</td>\n",
       "      <td>57.000000</td>\n",
       "      <td>30.500000</td>\n",
       "      <td>14.000000</td>\n",
       "      <td>25.000000</td>\n",
       "      <td>180.500000</td>\n",
       "      <td>0.000000</td>\n",
       "      <td>0.000000</td>\n",
       "      <td>14.5</td>\n",
       "    </tr>\n",
       "    <tr>\n",
       "      <th>75%</th>\n",
       "      <td>1269.500000</td>\n",
       "      <td>36.000000</td>\n",
       "      <td>52.750000</td>\n",
       "      <td>3.545000</td>\n",
       "      <td>40.000000</td>\n",
       "      <td>30.750000</td>\n",
       "      <td>1.0</td>\n",
       "      <td>169.500000</td>\n",
       "      <td>61.750000</td>\n",
       "      <td>37.000000</td>\n",
       "      <td>16.000000</td>\n",
       "      <td>35.000000</td>\n",
       "      <td>185.000000</td>\n",
       "      <td>0.000000</td>\n",
       "      <td>0.000000</td>\n",
       "      <td>25.0</td>\n",
       "    </tr>\n",
       "    <tr>\n",
       "      <th>max</th>\n",
       "      <td>1764.000000</td>\n",
       "      <td>39.000000</td>\n",
       "      <td>58.000000</td>\n",
       "      <td>4.570000</td>\n",
       "      <td>45.000000</td>\n",
       "      <td>41.000000</td>\n",
       "      <td>1.0</td>\n",
       "      <td>181.000000</td>\n",
       "      <td>78.000000</td>\n",
       "      <td>46.000000</td>\n",
       "      <td>16.000000</td>\n",
       "      <td>50.000000</td>\n",
       "      <td>200.000000</td>\n",
       "      <td>1.000000</td>\n",
       "      <td>1.000000</td>\n",
       "      <td>50.0</td>\n",
       "    </tr>\n",
       "  </tbody>\n",
       "</table>\n",
       "</div>"
      ],
      "text/plain": [
       "                ID   Headcirc     Length  Birthweight  Gestation       mage  \\\n",
       "count    22.000000  22.000000  22.000000    22.000000  22.000000  22.000000   \n",
       "mean    772.409091  34.181818  50.909091     3.134091  38.954545  26.681818   \n",
       "std     513.370530   2.630161   2.616961     0.631247   2.535036   6.357495   \n",
       "min      27.000000  30.000000  46.000000     1.920000  33.000000  19.000000   \n",
       "25%     381.500000  33.000000  49.250000     2.742500  38.000000  21.250000   \n",
       "50%     597.000000  34.000000  51.000000     3.185000  39.000000  26.500000   \n",
       "75%    1269.500000  36.000000  52.750000     3.545000  40.000000  30.750000   \n",
       "max    1764.000000  39.000000  58.000000     4.570000  45.000000  41.000000   \n",
       "\n",
       "       smoker     mheight      mppwt       fage     fedyrs     fnocig  \\\n",
       "count    22.0   22.000000  22.000000  22.000000  22.000000  22.000000   \n",
       "mean      1.0  164.454545  57.500000  30.181818  13.636364  24.000000   \n",
       "std       0.0    6.382471   8.192622   7.768289   2.194049  18.249592   \n",
       "min       1.0  152.000000  47.000000  20.000000  10.000000   0.000000   \n",
       "25%       1.0  161.000000  51.250000  23.250000  12.000000   8.250000   \n",
       "50%       1.0  163.000000  57.000000  30.500000  14.000000  25.000000   \n",
       "75%       1.0  169.500000  61.750000  37.000000  16.000000  35.000000   \n",
       "max       1.0  181.000000  78.000000  46.000000  16.000000  50.000000   \n",
       "\n",
       "          fheight     lowbwt     mage35  mnocig  \n",
       "count   22.000000  22.000000  22.000000    22.0  \n",
       "mean   181.227273   0.227273   0.136364    18.0  \n",
       "std      7.495598   0.428932   0.351250    12.0  \n",
       "min    169.000000   0.000000   0.000000     2.0  \n",
       "25%    176.500000   0.000000   0.000000     7.0  \n",
       "50%    180.500000   0.000000   0.000000    14.5  \n",
       "75%    185.000000   0.000000   0.000000    25.0  \n",
       "max    200.000000   1.000000   1.000000    50.0  "
      ]
     },
     "execution_count": 12,
     "metadata": {},
     "output_type": "execute_result"
    }
   ],
   "source": [
    "babies_smokers.describe()"
   ]
  },
  {
   "cell_type": "code",
   "execution_count": 12,
   "id": "d7f06f00",
   "metadata": {},
   "outputs": [],
   "source": [
    "import math\n",
    "from scipy.stats import shapiro \n",
    "from scipy.stats import lognorm"
   ]
  },
  {
   "cell_type": "code",
   "execution_count": 14,
   "id": "31a1dd14",
   "metadata": {},
   "outputs": [
    {
     "data": {
      "text/plain": [
       "ShapiroResult(statistic=0.9536522030830383, pvalue=0.3723842203617096)"
      ]
     },
     "execution_count": 14,
     "metadata": {},
     "output_type": "execute_result"
    }
   ],
   "source": [
    "shapiro(babies_smokers['Headcirc'])"
   ]
  },
  {
   "cell_type": "code",
   "execution_count": 15,
   "id": "a59b8fe4",
   "metadata": {},
   "outputs": [],
   "source": [
    "## pvalue under 0.5 -> not normally distributed"
   ]
  },
  {
   "cell_type": "code",
   "execution_count": 20,
   "id": "f7fe005e",
   "metadata": {},
   "outputs": [],
   "source": [
    "from scipy.stats import lognorm\n",
    "import matplotlib.pyplot as plt"
   ]
  },
  {
   "cell_type": "code",
   "execution_count": 19,
   "id": "8299b612",
   "metadata": {},
   "outputs": [
    {
     "data": {
      "text/plain": [
       "(array([3., 0., 0., 0., 0., 0., 0., 0., 0., 0., 0., 2., 0., 0., 0., 0., 5.,\n",
       "        0., 0., 0., 0., 0., 3., 0., 0., 0., 0., 2., 0., 0., 0., 0., 0., 2.,\n",
       "        0., 0., 0., 0., 2., 0., 0., 0., 0., 0., 2., 0., 0., 0., 0., 1.]),\n",
       " array([30.  , 30.18, 30.36, 30.54, 30.72, 30.9 , 31.08, 31.26, 31.44,\n",
       "        31.62, 31.8 , 31.98, 32.16, 32.34, 32.52, 32.7 , 32.88, 33.06,\n",
       "        33.24, 33.42, 33.6 , 33.78, 33.96, 34.14, 34.32, 34.5 , 34.68,\n",
       "        34.86, 35.04, 35.22, 35.4 , 35.58, 35.76, 35.94, 36.12, 36.3 ,\n",
       "        36.48, 36.66, 36.84, 37.02, 37.2 , 37.38, 37.56, 37.74, 37.92,\n",
       "        38.1 , 38.28, 38.46, 38.64, 38.82, 39.  ]),\n",
       " <BarContainer object of 50 artists>)"
      ]
     },
     "execution_count": 19,
     "metadata": {},
     "output_type": "execute_result"
    },
    {
     "data": {
      "image/png": "[encoded data removed]",
      "text/plain": [
       "<Figure size 640x480 with 1 Axes>"
      ]
     },
     "metadata": {},
     "output_type": "display_data"
    }
   ],
   "source": [
    "plt.hist(babies_smokers['Headcirc'], edgecolor='black', bins=50)"
   ]
  },
  {
   "cell_type": "code",
   "execution_count": 20,
   "id": "d020788a",
   "metadata": {},
   "outputs": [],
   "source": [
    "from scipy.stats import zscore"
   ]
  },
  {
   "cell_type": "code",
   "execution_count": 23,
   "id": "74173449",
   "metadata": {},
   "outputs": [
    {
     "data": {
      "text/plain": [
       "0    -0.515580\n",
       "1     0.466477\n",
       "2     1.939563\n",
       "3     1.448534\n",
       "4     0.957506\n",
       "5     1.448534\n",
       "6    -0.515580\n",
       "7    -1.006609\n",
       "8     1.448534\n",
       "9    -0.024551\n",
       "10   -1.006609\n",
       "11    0.466477\n",
       "12    0.466477\n",
       "13   -1.006609\n",
       "14   -0.515580\n",
       "15   -1.006609\n",
       "16   -0.024551\n",
       "17   -1.006609\n",
       "18   -0.515580\n",
       "19   -1.497637\n",
       "Name: Headcirc, dtype: float64"
      ]
     },
     "execution_count": 23,
     "metadata": {},
     "output_type": "execute_result"
    }
   ],
   "source": [
    "zscore(babies_non_smokers['Headcirc'])"
   ]
  },
  {
   "cell_type": "code",
   "execution_count": 24,
   "id": "3a39cf0f",
   "metadata": {},
   "outputs": [
    {
     "data": {
      "text/plain": [
       "0     34\n",
       "1     36\n",
       "2     39\n",
       "3     38\n",
       "4     37\n",
       "5     38\n",
       "6     34\n",
       "7     33\n",
       "8     38\n",
       "9     35\n",
       "10    33\n",
       "11    36\n",
       "12    36\n",
       "13    33\n",
       "14    34\n",
       "15    33\n",
       "16    35\n",
       "17    33\n",
       "18    34\n",
       "19    32\n",
       "Name: Headcirc, dtype: int64"
      ]
     },
     "execution_count": 24,
     "metadata": {},
     "output_type": "execute_result"
    }
   ],
   "source": [
    "babies_non_smokers['Headcirc']"
   ]
  },
  {
   "cell_type": "code",
   "execution_count": 25,
   "id": "5bf6c2de",
   "metadata": {},
   "outputs": [
    {
     "data": {
      "text/plain": [
       "(array([1., 0., 0., 0., 0., 0., 0., 5., 0., 0., 0., 0., 0., 0., 4., 0., 0.,\n",
       "        0., 0., 0., 0., 2., 0., 0., 0., 0., 0., 0., 3., 0., 0., 0., 0., 0.,\n",
       "        0., 1., 0., 0., 0., 0., 0., 0., 3., 0., 0., 0., 0., 0., 0., 1.]),\n",
       " array([32.  , 32.14, 32.28, 32.42, 32.56, 32.7 , 32.84, 32.98, 33.12,\n",
       "        33.26, 33.4 , 33.54, 33.68, 33.82, 33.96, 34.1 , 34.24, 34.38,\n",
       "        34.52, 34.66, 34.8 , 34.94, 35.08, 35.22, 35.36, 35.5 , 35.64,\n",
       "        35.78, 35.92, 36.06, 36.2 , 36.34, 36.48, 36.62, 36.76, 36.9 ,\n",
       "        37.04, 37.18, 37.32, 37.46, 37.6 , 37.74, 37.88, 38.02, 38.16,\n",
       "        38.3 , 38.44, 38.58, 38.72, 38.86, 39.  ]),\n",
       " <BarContainer object of 50 artists>)"
      ]
     },
     "execution_count": 25,
     "metadata": {},
     "output_type": "execute_result"
    },
    {
     "data": {
      "image/png": "[encoded data removed]",
      "text/plain": [
       "<Figure size 640x480 with 1 Axes>"
      ]
     },
     "metadata": {},
     "output_type": "display_data"
    }
   ],
   "source": [
    "plt.hist(babies_non_smokers['Headcirc'], edgecolor='black', bins=50)"
   ]
  },
  {
   "cell_type": "code",
   "execution_count": 26,
   "id": "56fb0294",
   "metadata": {},
   "outputs": [
    {
     "data": {
      "text/plain": [
       "ShapiroResult(statistic=0.9824167490005493, pvalue=0.9494719505310059)"
      ]
     },
     "execution_count": 26,
     "metadata": {},
     "output_type": "execute_result"
    }
   ],
   "source": [
    "shapiro(babies_smokers['Birthweight'])"
   ]
  },
  {
   "cell_type": "code",
   "execution_count": 27,
   "id": "16ad87f4",
   "metadata": {},
   "outputs": [
    {
     "data": {
      "text/plain": [
       "(array([1., 0., 1., 0., 0., 0., 0., 0., 1., 0., 0., 1., 0., 1., 0., 2., 1.,\n",
       "        0., 0., 0., 1., 0., 0., 3., 0., 0., 2., 0., 1., 0., 2., 1., 1., 0.,\n",
       "        0., 0., 2., 0., 0., 0., 0., 0., 0., 0., 0., 0., 0., 0., 0., 1.]),\n",
       " array([1.92 , 1.973, 2.026, 2.079, 2.132, 2.185, 2.238, 2.291, 2.344,\n",
       "        2.397, 2.45 , 2.503, 2.556, 2.609, 2.662, 2.715, 2.768, 2.821,\n",
       "        2.874, 2.927, 2.98 , 3.033, 3.086, 3.139, 3.192, 3.245, 3.298,\n",
       "        3.351, 3.404, 3.457, 3.51 , 3.563, 3.616, 3.669, 3.722, 3.775,\n",
       "        3.828, 3.881, 3.934, 3.987, 4.04 , 4.093, 4.146, 4.199, 4.252,\n",
       "        4.305, 4.358, 4.411, 4.464, 4.517, 4.57 ]),\n",
       " <BarContainer object of 50 artists>)"
      ]
     },
     "execution_count": 27,
     "metadata": {},
     "output_type": "execute_result"
    },
    {
     "data": {
      "image/png": "[encoded data removed]",
      "text/plain": [
       "<Figure size 640x480 with 1 Axes>"
      ]
     },
     "metadata": {},
     "output_type": "display_data"
    }
   ],
   "source": [
    "plt.hist(babies_smokers['Birthweight'], edgecolor='black', bins=50)"
   ]
  },
  {
   "cell_type": "code",
   "execution_count": 28,
   "id": "e342376b",
   "metadata": {},
   "outputs": [],
   "source": [
    "from scipy.stats import norm"
   ]
  },
  {
   "cell_type": "code",
   "execution_count": 29,
   "id": "e2d179db",
   "metadata": {},
   "outputs": [
    {
     "data": {
      "text/plain": [
       "0.9552850514579199"
      ]
     },
     "execution_count": 29,
     "metadata": {},
     "output_type": "execute_result"
    }
   ],
   "source": [
    "norm(3.13,0.63).cdf(4.2)"
   ]
  },
  {
   "cell_type": "code",
   "execution_count": 30,
   "id": "9c3ed203",
   "metadata": {},
   "outputs": [
    {
     "data": {
      "text/plain": [
       "ShapiroResult(statistic=0.9122545123100281, pvalue=0.07037191092967987)"
      ]
     },
     "execution_count": 30,
     "metadata": {},
     "output_type": "execute_result"
    }
   ],
   "source": [
    "shapiro(babies_non_smokers['Length'])"
   ]
  },
  {
   "cell_type": "code",
   "execution_count": 32,
   "id": "f3fa1b00",
   "metadata": {},
   "outputs": [
    {
     "data": {
      "text/plain": [
       "(array([1., 0., 0., 0., 0., 0., 0., 0., 0., 0., 0., 0., 0., 0., 0., 0., 3.,\n",
       "        0., 0., 0., 0., 0., 0., 1., 0., 0., 2., 0., 0., 0., 2., 0., 0., 7.,\n",
       "        0., 0., 2., 0., 0., 0., 0., 0., 0., 1., 0., 0., 0., 0., 0., 1.]),\n",
       " array([43. , 43.3, 43.6, 43.9, 44.2, 44.5, 44.8, 45.1, 45.4, 45.7, 46. ,\n",
       "        46.3, 46.6, 46.9, 47.2, 47.5, 47.8, 48.1, 48.4, 48.7, 49. , 49.3,\n",
       "        49.6, 49.9, 50.2, 50.5, 50.8, 51.1, 51.4, 51.7, 52. , 52.3, 52.6,\n",
       "        52.9, 53.2, 53.5, 53.8, 54.1, 54.4, 54.7, 55. , 55.3, 55.6, 55.9,\n",
       "        56.2, 56.5, 56.8, 57.1, 57.4, 57.7, 58. ]),\n",
       " <BarContainer object of 50 artists>)"
      ]
     },
     "execution_count": 32,
     "metadata": {},
     "output_type": "execute_result"
    },
    {
     "data": {
      "image/png": "[encoded data removed]",
      "text/plain": [
       "<Figure size 640x480 with 1 Axes>"
      ]
     },
     "metadata": {},
     "output_type": "display_data"
    }
   ],
   "source": [
    "plt.hist(babies_non_smokers['Length'], edgecolor='black', bins=50)"
   ]
  },
  {
   "cell_type": "code",
   "execution_count": 35,
   "id": "5cd01b6c",
   "metadata": {},
   "outputs": [],
   "source": [
    "x = norm(51.8,3.25).cdf(55)"
   ]
  },
  {
   "cell_type": "code",
   "execution_count": 36,
   "id": "3734ebde",
   "metadata": {},
   "outputs": [
    {
     "data": {
      "text/plain": [
       "0.16240651491816327"
      ]
     },
     "execution_count": 36,
     "metadata": {},
     "output_type": "execute_result"
    }
   ],
   "source": [
    "1-x"
   ]
  },
  {
   "cell_type": "code",
   "execution_count": 37,
   "id": "70f62306",
   "metadata": {},
   "outputs": [
    {
     "data": {
      "text/plain": [
       "0.8375934850818367"
      ]
     },
     "execution_count": 37,
     "metadata": {},
     "output_type": "execute_result"
    }
   ],
   "source": [
    "x"
   ]
  },
  {
   "cell_type": "code",
   "execution_count": 6,
   "id": "25d81d9a",
   "metadata": {},
   "outputs": [
    {
     "data": {
      "text/html": [
       "<div>\n",
       "<style scoped>\n",
       "    .dataframe tbody tr th:only-of-type {\n",
       "        vertical-align: middle;\n",
       "    }\n",
       "\n",
       "    .dataframe tbody tr th {\n",
       "        vertical-align: top;\n",
       "    }\n",
       "\n",
       "    .dataframe thead th {\n",
       "        text-align: right;\n",
       "    }\n",
       "</style>\n",
       "<table border=\"1\" class=\"dataframe\">\n",
       "  <thead>\n",
       "    <tr style=\"text-align: right;\">\n",
       "      <th></th>\n",
       "      <th>ID</th>\n",
       "      <th>Headcirc</th>\n",
       "      <th>Length</th>\n",
       "      <th>Birthweight</th>\n",
       "      <th>Gestation</th>\n",
       "      <th>mage</th>\n",
       "      <th>smoker</th>\n",
       "      <th>mheight</th>\n",
       "      <th>mppwt</th>\n",
       "      <th>fage</th>\n",
       "      <th>fedyrs</th>\n",
       "      <th>fnocig</th>\n",
       "      <th>fheight</th>\n",
       "      <th>lowbwt</th>\n",
       "      <th>mage35</th>\n",
       "      <th>mnocig</th>\n",
       "    </tr>\n",
       "  </thead>\n",
       "  <tbody>\n",
       "    <tr>\n",
       "      <th>0</th>\n",
       "      <td>1360</td>\n",
       "      <td>34</td>\n",
       "      <td>56</td>\n",
       "      <td>4.55</td>\n",
       "      <td>44</td>\n",
       "      <td>20</td>\n",
       "      <td>0</td>\n",
       "      <td>162</td>\n",
       "      <td>57</td>\n",
       "      <td>23</td>\n",
       "      <td>10</td>\n",
       "      <td>35</td>\n",
       "      <td>179</td>\n",
       "      <td>0</td>\n",
       "      <td>0</td>\n",
       "      <td>0</td>\n",
       "    </tr>\n",
       "    <tr>\n",
       "      <th>1</th>\n",
       "      <td>1016</td>\n",
       "      <td>36</td>\n",
       "      <td>53</td>\n",
       "      <td>4.32</td>\n",
       "      <td>40</td>\n",
       "      <td>19</td>\n",
       "      <td>0</td>\n",
       "      <td>171</td>\n",
       "      <td>62</td>\n",
       "      <td>19</td>\n",
       "      <td>12</td>\n",
       "      <td>0</td>\n",
       "      <td>183</td>\n",
       "      <td>0</td>\n",
       "      <td>0</td>\n",
       "      <td>0</td>\n",
       "    </tr>\n",
       "    <tr>\n",
       "      <th>2</th>\n",
       "      <td>462</td>\n",
       "      <td>39</td>\n",
       "      <td>58</td>\n",
       "      <td>4.10</td>\n",
       "      <td>41</td>\n",
       "      <td>35</td>\n",
       "      <td>0</td>\n",
       "      <td>172</td>\n",
       "      <td>58</td>\n",
       "      <td>31</td>\n",
       "      <td>16</td>\n",
       "      <td>25</td>\n",
       "      <td>185</td>\n",
       "      <td>0</td>\n",
       "      <td>1</td>\n",
       "      <td>0</td>\n",
       "    </tr>\n",
       "    <tr>\n",
       "      <th>3</th>\n",
       "      <td>1187</td>\n",
       "      <td>38</td>\n",
       "      <td>53</td>\n",
       "      <td>4.07</td>\n",
       "      <td>44</td>\n",
       "      <td>20</td>\n",
       "      <td>0</td>\n",
       "      <td>174</td>\n",
       "      <td>68</td>\n",
       "      <td>26</td>\n",
       "      <td>14</td>\n",
       "      <td>25</td>\n",
       "      <td>189</td>\n",
       "      <td>0</td>\n",
       "      <td>0</td>\n",
       "      <td>0</td>\n",
       "    </tr>\n",
       "    <tr>\n",
       "      <th>4</th>\n",
       "      <td>553</td>\n",
       "      <td>37</td>\n",
       "      <td>54</td>\n",
       "      <td>3.94</td>\n",
       "      <td>42</td>\n",
       "      <td>24</td>\n",
       "      <td>0</td>\n",
       "      <td>175</td>\n",
       "      <td>66</td>\n",
       "      <td>30</td>\n",
       "      <td>12</td>\n",
       "      <td>0</td>\n",
       "      <td>184</td>\n",
       "      <td>0</td>\n",
       "      <td>0</td>\n",
       "      <td>0</td>\n",
       "    </tr>\n",
       "  </tbody>\n",
       "</table>\n",
       "</div>"
      ],
      "text/plain": [
       "     ID  Headcirc  Length  Birthweight  Gestation  mage  smoker  mheight  \\\n",
       "0  1360        34      56         4.55         44    20       0      162   \n",
       "1  1016        36      53         4.32         40    19       0      171   \n",
       "2   462        39      58         4.10         41    35       0      172   \n",
       "3  1187        38      53         4.07         44    20       0      174   \n",
       "4   553        37      54         3.94         42    24       0      175   \n",
       "\n",
       "   mppwt  fage  fedyrs  fnocig  fheight  lowbwt  mage35  mnocig  \n",
       "0     57    23      10      35      179       0       0       0  \n",
       "1     62    19      12       0      183       0       0       0  \n",
       "2     58    31      16      25      185       0       1       0  \n",
       "3     68    26      14      25      189       0       0       0  \n",
       "4     66    30      12       0      184       0       0       0  "
      ]
     },
     "execution_count": 6,
     "metadata": {},
     "output_type": "execute_result"
    }
   ],
   "source": [
    "babies.head()"
   ]
  },
  {
   "cell_type": "code",
   "execution_count": 7,
   "id": "45721cb5",
   "metadata": {},
   "outputs": [
    {
     "data": {
      "text/plain": [
       "28.904761904761905"
      ]
     },
     "execution_count": 7,
     "metadata": {},
     "output_type": "execute_result"
    }
   ],
   "source": [
    "babies['fage'].mean()"
   ]
  },
  {
   "cell_type": "code",
   "execution_count": 8,
   "id": "5b5a961c",
   "metadata": {},
   "outputs": [
    {
     "data": {
      "text/plain": [
       "3.3128571428571427"
      ]
     },
     "execution_count": 8,
     "metadata": {},
     "output_type": "execute_result"
    }
   ],
   "source": [
    "babies['Birthweight'].mean()"
   ]
  },
  {
   "cell_type": "code",
   "execution_count": 9,
   "id": "3dafb0e9",
   "metadata": {},
   "outputs": [
    {
     "data": {
      "text/plain": [
       "0.603895022836148"
      ]
     },
     "execution_count": 9,
     "metadata": {},
     "output_type": "execute_result"
    }
   ],
   "source": [
    "babies['Birthweight'].std()"
   ]
  },
  {
   "cell_type": "code",
   "execution_count": 11,
   "id": "f11fafb1",
   "metadata": {},
   "outputs": [
    {
     "data": {
      "text/plain": [
       "24.833333333333332"
      ]
     },
     "execution_count": 11,
     "metadata": {},
     "output_type": "execute_result"
    }
   ],
   "source": [
    "babies[babies['Birthweight'] < 2.71]['fage'].mean()"
   ]
  },
  {
   "cell_type": "code",
   "execution_count": 13,
   "id": "a609adc7",
   "metadata": {},
   "outputs": [
    {
     "data": {
      "text/plain": [
       "ShapiroResult(statistic=0.9436862468719482, pvalue=0.03849918395280838)"
      ]
     },
     "execution_count": 13,
     "metadata": {},
     "output_type": "execute_result"
    }
   ],
   "source": [
    "shapiro(babies['fage'])"
   ]
  },
  {
   "cell_type": "code",
   "execution_count": 14,
   "id": "5f7bd05b",
   "metadata": {},
   "outputs": [],
   "source": [
    "babies['fage_log'] = babies['fage'].agg(np.log)"
   ]
  },
  {
   "cell_type": "code",
   "execution_count": 16,
   "id": "edcf04b0",
   "metadata": {},
   "outputs": [
    {
     "data": {
      "text/plain": [
       "3.3370421189026085"
      ]
     },
     "execution_count": 16,
     "metadata": {},
     "output_type": "execute_result"
    }
   ],
   "source": [
    "babies['fage_log'].mean()"
   ]
  },
  {
   "cell_type": "code",
   "execution_count": 17,
   "id": "8ae18c31",
   "metadata": {},
   "outputs": [
    {
     "data": {
      "text/plain": [
       "ShapiroResult(statistic=0.9583315253257751, pvalue=0.12867699563503265)"
      ]
     },
     "execution_count": 17,
     "metadata": {},
     "output_type": "execute_result"
    }
   ],
   "source": [
    "shapiro(babies['fage_log'])"
   ]
  },
  {
   "cell_type": "code",
   "execution_count": 18,
   "id": "381f0c0b",
   "metadata": {},
   "outputs": [
    {
     "data": {
      "text/plain": [
       "ShapiroResult(statistic=0.8441449403762817, pvalue=4.483600059757009e-05)"
      ]
     },
     "execution_count": 18,
     "metadata": {},
     "output_type": "execute_result"
    }
   ],
   "source": [
    "shapiro(babies['fedyrs'])"
   ]
  },
  {
   "cell_type": "code",
   "execution_count": 21,
   "id": "e0fc50d4",
   "metadata": {},
   "outputs": [
    {
     "data": {
      "text/plain": [
       "(array([ 6.,  0.,  0.,  0.,  0.,  0.,  0.,  0.,  0.,  0.,  0.,  0.,  0.,\n",
       "         0.,  0.,  0., 10.,  0.,  0.,  0.,  0.,  0.,  0.,  0.,  0.,  0.,\n",
       "         0.,  0.,  0.,  0.,  0.,  0.,  0., 11.,  0.,  0.,  0.,  0.,  0.,\n",
       "         0.,  0.,  0.,  0.,  0.,  0.,  0.,  0.,  0.,  0., 15.]),\n",
       " array([10.  , 10.12, 10.24, 10.36, 10.48, 10.6 , 10.72, 10.84, 10.96,\n",
       "        11.08, 11.2 , 11.32, 11.44, 11.56, 11.68, 11.8 , 11.92, 12.04,\n",
       "        12.16, 12.28, 12.4 , 12.52, 12.64, 12.76, 12.88, 13.  , 13.12,\n",
       "        13.24, 13.36, 13.48, 13.6 , 13.72, 13.84, 13.96, 14.08, 14.2 ,\n",
       "        14.32, 14.44, 14.56, 14.68, 14.8 , 14.92, 15.04, 15.16, 15.28,\n",
       "        15.4 , 15.52, 15.64, 15.76, 15.88, 16.  ]),\n",
       " <BarContainer object of 50 artists>)"
      ]
     },
     "execution_count": 21,
     "metadata": {},
     "output_type": "execute_result"
    },
    {
     "data": {
      "image/png": "[encoded data removed]",
      "text/plain": [
       "<Figure size 640x480 with 1 Axes>"
      ]
     },
     "metadata": {},
     "output_type": "display_data"
    }
   ],
   "source": [
    "plt.hist(babies['fedyrs'], edgecolor='black', bins=50)"
   ]
  },
  {
   "cell_type": "code",
   "execution_count": 22,
   "id": "a62dd970",
   "metadata": {},
   "outputs": [],
   "source": [
    "from scipy.stats import boxcox"
   ]
  },
  {
   "cell_type": "code",
   "execution_count": 27,
   "id": "8683d257",
   "metadata": {},
   "outputs": [
    {
     "ename": "ValueError",
     "evalue": "Length of values (2) does not match length of index (42)",
     "output_type": "error",
     "traceback": [
      "\u001b[0;31m---------------------------------------------------------------------------\u001b[0m",
      "\u001b[0;31mValueError\u001b[0m                                Traceback (most recent call last)",
      "\u001b[0;32m/var/folders/3s/z84k1x213133x43q9y6xh7wm0000gn/T/ipykernel_16698/3256958932.py\u001b[0m in \u001b[0;36m<module>\u001b[0;34m\u001b[0m\n\u001b[0;32m----> 1\u001b[0;31m \u001b[0mbabies\u001b[0m\u001b[0;34m[\u001b[0m\u001b[0;34m'fedyrs_cox'\u001b[0m\u001b[0;34m]\u001b[0m \u001b[0;34m=\u001b[0m \u001b[0mbabies\u001b[0m\u001b[0;34m[\u001b[0m\u001b[0;34m'fedyrs'\u001b[0m\u001b[0;34m]\u001b[0m\u001b[0;34m.\u001b[0m\u001b[0magg\u001b[0m\u001b[0;34m(\u001b[0m\u001b[0mboxcox\u001b[0m\u001b[0;34m)\u001b[0m\u001b[0;34m\u001b[0m\u001b[0;34m\u001b[0m\u001b[0m\n\u001b[0m",
      "\u001b[0;32m~/opt/anaconda3/lib/python3.9/site-packages/pandas/core/frame.py\u001b[0m in \u001b[0;36m__setitem__\u001b[0;34m(self, key, value)\u001b[0m\n\u001b[1;32m   3653\u001b[0m         \u001b[0;32melse\u001b[0m\u001b[0;34m:\u001b[0m\u001b[0;34m\u001b[0m\u001b[0;34m\u001b[0m\u001b[0m\n\u001b[1;32m   3654\u001b[0m             \u001b[0;31m# set column\u001b[0m\u001b[0;34m\u001b[0m\u001b[0;34m\u001b[0m\u001b[0m\n\u001b[0;32m-> 3655\u001b[0;31m             \u001b[0mself\u001b[0m\u001b[0;34m.\u001b[0m\u001b[0m_set_item\u001b[0m\u001b[0;34m(\u001b[0m\u001b[0mkey\u001b[0m\u001b[0;34m,\u001b[0m \u001b[0mvalue\u001b[0m\u001b[0;34m)\u001b[0m\u001b[0;34m\u001b[0m\u001b[0;34m\u001b[0m\u001b[0m\n\u001b[0m\u001b[1;32m   3656\u001b[0m \u001b[0;34m\u001b[0m\u001b[0m\n\u001b[1;32m   3657\u001b[0m     \u001b[0;32mdef\u001b[0m \u001b[0m_setitem_slice\u001b[0m\u001b[0;34m(\u001b[0m\u001b[0mself\u001b[0m\u001b[0;34m,\u001b[0m \u001b[0mkey\u001b[0m\u001b[0;34m:\u001b[0m \u001b[0mslice\u001b[0m\u001b[0;34m,\u001b[0m \u001b[0mvalue\u001b[0m\u001b[0;34m)\u001b[0m\u001b[0;34m:\u001b[0m\u001b[0;34m\u001b[0m\u001b[0;34m\u001b[0m\u001b[0m\n",
      "\u001b[0;32m~/opt/anaconda3/lib/python3.9/site-packages/pandas/core/frame.py\u001b[0m in \u001b[0;36m_set_item\u001b[0;34m(self, key, value)\u001b[0m\n\u001b[1;32m   3830\u001b[0m         \u001b[0mensure\u001b[0m \u001b[0mhomogeneity\u001b[0m\u001b[0;34m.\u001b[0m\u001b[0;34m\u001b[0m\u001b[0;34m\u001b[0m\u001b[0m\n\u001b[1;32m   3831\u001b[0m         \"\"\"\n\u001b[0;32m-> 3832\u001b[0;31m         \u001b[0mvalue\u001b[0m \u001b[0;34m=\u001b[0m \u001b[0mself\u001b[0m\u001b[0;34m.\u001b[0m\u001b[0m_sanitize_column\u001b[0m\u001b[0;34m(\u001b[0m\u001b[0mvalue\u001b[0m\u001b[0;34m)\u001b[0m\u001b[0;34m\u001b[0m\u001b[0;34m\u001b[0m\u001b[0m\n\u001b[0m\u001b[1;32m   3833\u001b[0m \u001b[0;34m\u001b[0m\u001b[0m\n\u001b[1;32m   3834\u001b[0m         if (\n",
      "\u001b[0;32m~/opt/anaconda3/lib/python3.9/site-packages/pandas/core/frame.py\u001b[0m in \u001b[0;36m_sanitize_column\u001b[0;34m(self, value)\u001b[0m\n\u001b[1;32m   4536\u001b[0m \u001b[0;34m\u001b[0m\u001b[0m\n\u001b[1;32m   4537\u001b[0m         \u001b[0;32mif\u001b[0m \u001b[0mis_list_like\u001b[0m\u001b[0;34m(\u001b[0m\u001b[0mvalue\u001b[0m\u001b[0;34m)\u001b[0m\u001b[0;34m:\u001b[0m\u001b[0;34m\u001b[0m\u001b[0;34m\u001b[0m\u001b[0m\n\u001b[0;32m-> 4538\u001b[0;31m             \u001b[0mcom\u001b[0m\u001b[0;34m.\u001b[0m\u001b[0mrequire_length_match\u001b[0m\u001b[0;34m(\u001b[0m\u001b[0mvalue\u001b[0m\u001b[0;34m,\u001b[0m \u001b[0mself\u001b[0m\u001b[0;34m.\u001b[0m\u001b[0mindex\u001b[0m\u001b[0;34m)\u001b[0m\u001b[0;34m\u001b[0m\u001b[0;34m\u001b[0m\u001b[0m\n\u001b[0m\u001b[1;32m   4539\u001b[0m         \u001b[0;32mreturn\u001b[0m \u001b[0msanitize_array\u001b[0m\u001b[0;34m(\u001b[0m\u001b[0mvalue\u001b[0m\u001b[0;34m,\u001b[0m \u001b[0mself\u001b[0m\u001b[0;34m.\u001b[0m\u001b[0mindex\u001b[0m\u001b[0;34m,\u001b[0m \u001b[0mcopy\u001b[0m\u001b[0;34m=\u001b[0m\u001b[0;32mTrue\u001b[0m\u001b[0;34m,\u001b[0m \u001b[0mallow_2d\u001b[0m\u001b[0;34m=\u001b[0m\u001b[0;32mTrue\u001b[0m\u001b[0;34m)\u001b[0m\u001b[0;34m\u001b[0m\u001b[0;34m\u001b[0m\u001b[0m\n\u001b[1;32m   4540\u001b[0m \u001b[0;34m\u001b[0m\u001b[0m\n",
      "\u001b[0;32m~/opt/anaconda3/lib/python3.9/site-packages/pandas/core/common.py\u001b[0m in \u001b[0;36mrequire_length_match\u001b[0;34m(data, index)\u001b[0m\n\u001b[1;32m    555\u001b[0m     \"\"\"\n\u001b[1;32m    556\u001b[0m     \u001b[0;32mif\u001b[0m \u001b[0mlen\u001b[0m\u001b[0;34m(\u001b[0m\u001b[0mdata\u001b[0m\u001b[0;34m)\u001b[0m \u001b[0;34m!=\u001b[0m \u001b[0mlen\u001b[0m\u001b[0;34m(\u001b[0m\u001b[0mindex\u001b[0m\u001b[0;34m)\u001b[0m\u001b[0;34m:\u001b[0m\u001b[0;34m\u001b[0m\u001b[0;34m\u001b[0m\u001b[0m\n\u001b[0;32m--> 557\u001b[0;31m         raise ValueError(\n\u001b[0m\u001b[1;32m    558\u001b[0m             \u001b[0;34m\"Length of values \"\u001b[0m\u001b[0;34m\u001b[0m\u001b[0;34m\u001b[0m\u001b[0m\n\u001b[1;32m    559\u001b[0m             \u001b[0;34mf\"({len(data)}) \"\u001b[0m\u001b[0;34m\u001b[0m\u001b[0;34m\u001b[0m\u001b[0m\n",
      "\u001b[0;31mValueError\u001b[0m: Length of values (2) does not match length of index (42)"
     ]
    }
   ],
   "source": [
    "babies['fedyrs_cox'] = babies['fedyrs'].agg(boxcox)"
   ]
  },
  {
   "cell_type": "code",
   "execution_count": 28,
   "id": "25cb62ee",
   "metadata": {},
   "outputs": [],
   "source": [
    "import seaborn as sns"
   ]
  },
  {
   "cell_type": "code",
   "execution_count": 30,
   "id": "5063b801",
   "metadata": {},
   "outputs": [
    {
     "data": {
      "text/plain": [
       "<AxesSubplot:xlabel='fage', ylabel='Birthweight'>"
      ]
     },
     "execution_count": 30,
     "metadata": {},
     "output_type": "execute_result"
    },
    {
     "data": {
      "image/png": "[encoded data removed]",
      "text/plain": [
       "<Figure size 640x480 with 1 Axes>"
      ]
     },
     "metadata": {},
     "output_type": "display_data"
    }
   ],
   "source": [
    "sns.scatterplot(x='fage', y='Birthweight', data=babies)"
   ]
  },
  {
   "cell_type": "code",
   "execution_count": 31,
   "id": "a871f76d",
   "metadata": {},
   "outputs": [
    {
     "data": {
      "text/plain": [
       "<AxesSubplot:xlabel='Birthweight', ylabel='fage'>"
      ]
     },
     "execution_count": 31,
     "metadata": {},
     "output_type": "execute_result"
    },
    {
     "data": {
      "image/png": "[encoded data removed]",
      "text/plain": [
       "<Figure size 640x480 with 1 Axes>"
      ]
     },
     "metadata": {},
     "output_type": "display_data"
    }
   ],
   "source": [
    "sns.scatterplot(y='fage', x='Birthweight', data=babies)"
   ]
  },
  {
   "cell_type": "code",
   "execution_count": 32,
   "id": "cc0d8bf0",
   "metadata": {},
   "outputs": [
    {
     "data": {
      "text/plain": [
       "<AxesSubplot:xlabel='smoker', ylabel='Birthweight'>"
      ]
     },
     "execution_count": 32,
     "metadata": {},
     "output_type": "execute_result"
    },
    {
     "data": {
      "image/png": "[encoded data removed]",
      "text/plain": [
       "<Figure size 640x480 with 1 Axes>"
      ]
     },
     "metadata": {},
     "output_type": "display_data"
    }
   ],
   "source": [
    "sns.scatterplot(x='smoker', y='Birthweight', data=babies)"
   ]
  },
  {
   "cell_type": "code",
   "execution_count": 34,
   "id": "46c36c70",
   "metadata": {},
   "outputs": [],
   "source": [
    "from scipy.stats import pointbiserialr"
   ]
  },
  {
   "cell_type": "code",
   "execution_count": 35,
   "id": "3f30123d",
   "metadata": {},
   "outputs": [
    {
     "data": {
      "text/plain": [
       "PointbiserialrResult(correlation=-0.31423394642987135, pvalue=0.04269624654559379)"
      ]
     },
     "execution_count": 35,
     "metadata": {},
     "output_type": "execute_result"
    }
   ],
   "source": [
    "pointbiserialr(babies['smoker'],babies['Birthweight'])"
   ]
  },
  {
   "cell_type": "code",
   "execution_count": 36,
   "id": "f525fd28",
   "metadata": {},
   "outputs": [
    {
     "data": {
      "text/plain": [
       "<seaborn.axisgrid.FacetGrid at 0x7f78840e05b0>"
      ]
     },
     "execution_count": 36,
     "metadata": {},
     "output_type": "execute_result"
    },
    {
     "data": {
      "image/png": "[encoded data removed]",
      "text/plain": [
       "<Figure size 500x500 with 1 Axes>"
      ]
     },
     "metadata": {},
     "output_type": "display_data"
    }
   ],
   "source": [
    "sns.lmplot(x='Length', y='Birthweight', data=babies)"
   ]
  },
  {
   "cell_type": "code",
   "execution_count": 37,
   "id": "f28ae5d0",
   "metadata": {},
   "outputs": [
    {
     "data": {
      "text/plain": [
       "<seaborn.axisgrid.FacetGrid at 0x7f788692ae80>"
      ]
     },
     "execution_count": 37,
     "metadata": {},
     "output_type": "execute_result"
    },
    {
     "data": {
      "image/png": "[encoded data removed]",
      "text/plain": [
       "<Figure size 500x500 with 1 Axes>"
      ]
     },
     "metadata": {},
     "output_type": "display_data"
    }
   ],
   "source": [
    "sns.lmplot(x='Length', y='Headcirc', data=babies)"
   ]
  },
  {
   "cell_type": "code",
   "execution_count": 38,
   "id": "ec55a962",
   "metadata": {},
   "outputs": [],
   "source": [
    "from scipy.stats import pearsonr"
   ]
  },
  {
   "cell_type": "code",
   "execution_count": 39,
   "id": "d331f476",
   "metadata": {},
   "outputs": [
    {
     "data": {
      "text/plain": [
       "(0.726833484788526, 5.029346136655993e-08)"
      ]
     },
     "execution_count": 39,
     "metadata": {},
     "output_type": "execute_result"
    }
   ],
   "source": [
    "pearsonr(babies['Length'], babies['Birthweight'])"
   ]
  },
  {
   "cell_type": "code",
   "execution_count": 40,
   "id": "4de6716a",
   "metadata": {},
   "outputs": [
    {
     "data": {
      "text/plain": [
       "(0.5631716062291092, 0.00010324439754786418)"
      ]
     },
     "execution_count": 40,
     "metadata": {},
     "output_type": "execute_result"
    }
   ],
   "source": [
    "pearsonr(babies['Length'], babies['Headcirc'])"
   ]
  },
  {
   "cell_type": "code",
   "execution_count": 41,
   "id": "da8baca9",
   "metadata": {},
   "outputs": [
    {
     "data": {
      "text/plain": [
       "(0.6846156184774086, 5.734797978444242e-07)"
      ]
     },
     "execution_count": 41,
     "metadata": {},
     "output_type": "execute_result"
    }
   ],
   "source": [
    "pearsonr(babies['Headcirc'], babies['Birthweight'])"
   ]
  },
  {
   "cell_type": "code",
   "execution_count": null,
   "id": "c7dc2b3d",
   "metadata": {},
   "outputs": [],
   "source": []
  }
 ],
 "metadata": {
  "kernelspec": {
   "display_name": "Python 3 (ipykernel)",
   "language": "python",
   "name": "python3"
  },
  "language_info": {
   "codemirror_mode": {
    "name": "ipython",
    "version": 3
   },
   "file_extension": ".py",
   "mimetype": "text/x-python",
   "name": "python",
   "nbconvert_exporter": "python",
   "pygments_lexer": "ipython3",
   "version": "3.9.12"
  }
 },
 "nbformat": 4,
 "nbformat_minor": 5
}
